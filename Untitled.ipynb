{
 "cells": [
  {
   "cell_type": "code",
   "execution_count": 1,
   "metadata": {},
   "outputs": [],
   "source": [
    "def parse_op(op):\n",
    "    return (op % 100, (op // 100 % 10, op // 1000 % 10, op // 10000 % 10))\n",
    "\n",
    "class Machine:\n",
    "    def __init__(self, code):\n",
    "        self.code = code\n",
    "        self.ptr = 0\n",
    "    \n",
    "    \n",
    "    def t(self, mode, val):\n",
    "        return val if mode else self.code[val]\n",
    "    \n",
    "    def run(self, n=None, v=None, inp=None):\n",
    "        l = len(self.code)\n",
    "        bk = self.code.copy()\n",
    "        if n is not None:\n",
    "            self.code[1] = n\n",
    "        if v is not None:\n",
    "            self.code[2] = v\n",
    "        self.input = [] if inp is None else inp\n",
    "        self.input_ptr = 0\n",
    "        self.output = []\n",
    "        while self.ptr < l:\n",
    "            op, modes = parse_op(self.code[self.ptr])\n",
    "            c = self.code\n",
    "            if op == 99:\n",
    "                break\n",
    "            elif op == 1:\n",
    "                self.do_add(modes, c[self.ptr+1], c[self.ptr+2], c[self.ptr+3])\n",
    "                self.ptr += 4\n",
    "            elif op == 2:\n",
    "                self.do_mult(modes, c[self.ptr+1], c[self.ptr+2], c[self.ptr+3])\n",
    "                self.ptr += 4\n",
    "            elif op == 3:\n",
    "                self.do_input(modes, c[self.ptr+1])\n",
    "                self.ptr += 2\n",
    "            elif op == 4:\n",
    "                self.do_output(modes, c[self.ptr+1])\n",
    "                self.ptr += 2\n",
    "            elif op == 5:\n",
    "                if self.t(modes[0], c[self.ptr+1]) != 0:\n",
    "                    self.ptr = self.t(modes[1], c[self.ptr+2])\n",
    "                else:\n",
    "                    self.ptr += 3\n",
    "            elif op == 6:\n",
    "                if self.t(modes[0], c[self.ptr+1]) == 0:\n",
    "                    self.ptr = self.t(modes[1], c[self.ptr+2])\n",
    "                else:\n",
    "                    self.ptr += 3\n",
    "            elif op == 7:\n",
    "                self.code[c[self.ptr+3]] = self.t(modes[0], c[self.ptr+1]) < self.t(modes[1], c[self.ptr+2])\n",
    "                self.ptr += 4\n",
    "            elif op == 8:\n",
    "                self.code[c[self.ptr+3]] = self.t(modes[0], c[self.ptr+1]) == self.t(modes[1], c[self.ptr+2])\n",
    "                self.ptr += 4\n",
    "                \n",
    "        out = self.code[0]\n",
    "        self.code = bk\n",
    "        self.ptr = 0\n",
    "        return (self.output, out)\n",
    "    \n",
    "    def do_add(self, modes, r1, r2, r3):\n",
    "        self.code[r3] = self.t(modes[0], r1) + self.t(modes[1], r2)\n",
    "        \n",
    "    def do_mult(self, modes, r1, r2, r3):\n",
    "        self.code[r3] = self.t(modes[0], r1) * self.t(modes[1], r2)\n",
    "    \n",
    "    def do_input(self, modes, r1):\n",
    "        self.code[r1] = self.input[self.input_ptr]\n",
    "        self.input_ptr += 1\n",
    "    \n",
    "    def do_output(self, modes, r1):\n",
    "        self.output.append(self.t(modes[0], r1))\n",
    "        \n",
    "    def do1202(self):\n",
    "        self.code[1] = 12\n",
    "        self.code[2] = 2"
   ]
  },
  {
   "cell_type": "code",
   "execution_count": 9,
   "metadata": {},
   "outputs": [],
   "source": [
    "from itertools import permutations"
   ]
  },
  {
   "cell_type": "code",
   "execution_count": 10,
   "metadata": {},
   "outputs": [
    {
     "data": {
      "text/plain": [
       "((1, 0, 4, 3, 2), 65210)"
      ]
     },
     "execution_count": 10,
     "metadata": {},
     "output_type": "execute_result"
    }
   ],
   "source": [
    "c = [\n",
    "    3,31,3,32,1002,32,10,32,1001,31,-2,31,1007,31,0,33,\n",
    "1002,33,7,33,1,33,31,31,1,32,31,31,4,31,99,0,0,0\n",
    "]\n",
    "argmax(lambda x: throut(c, x), permutations([0,1,2,3,4]))"
   ]
  },
  {
   "cell_type": "code",
   "execution_count": 4,
   "metadata": {},
   "outputs": [],
   "source": [
    "def argmax(f, xs):\n",
    "    x0 = next(xs)\n",
    "    y0 = f(x0)\n",
    "    for x in xs:\n",
    "        y = f(x)\n",
    "        if y > y0:\n",
    "            x0 = x\n",
    "            y0 = y\n",
    "    return x0, y0"
   ]
  },
  {
   "cell_type": "code",
   "execution_count": 6,
   "metadata": {},
   "outputs": [],
   "source": [
    "def throut(c, ps, i=0):\n",
    "    o = i\n",
    "    m = Machine(c)\n",
    "    for p in ps:\n",
    "        oo, _ = m.run(inp=[p, o])\n",
    "        o = oo[0]\n",
    "    return o\n",
    "\n",
    "    "
   ]
  },
  {
   "cell_type": "code",
   "execution_count": 7,
   "metadata": {},
   "outputs": [],
   "source": [
    "def fix(f, x):\n",
    "    while True:\n",
    "        y = f(x)\n",
    "        if y == x:\n",
    "            break\n",
    "        x = y\n",
    "    return x"
   ]
  },
  {
   "cell_type": "code",
   "execution_count": null,
   "metadata": {},
   "outputs": [],
   "source": []
  }
 ],
 "metadata": {
  "kernelspec": {
   "display_name": "Python 3",
   "language": "python",
   "name": "python3"
  },
  "language_info": {
   "codemirror_mode": {
    "name": "ipython",
    "version": 3
   },
   "file_extension": ".py",
   "mimetype": "text/x-python",
   "name": "python",
   "nbconvert_exporter": "python",
   "pygments_lexer": "ipython3",
   "version": "3.8.0"
  }
 },
 "nbformat": 4,
 "nbformat_minor": 4
}
