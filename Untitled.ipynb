{
 "cells": [
  {
   "cell_type": "code",
   "execution_count": 54,
   "metadata": {},
   "outputs": [],
   "source": [
    "from collections import deque\n",
    "from itertools import permutations"
   ]
  },
  {
   "cell_type": "code",
   "execution_count": 70,
   "metadata": {},
   "outputs": [],
   "source": [
    "def parse_op(op):\n",
    "    return (op % 100, (op // 100 % 10, op // 1000 % 10, op // 10000 % 10))\n",
    "\n",
    "class Machine:\n",
    "    def __init__(self, code):\n",
    "        self.code = code\n",
    "        self.ptr = 0\n",
    "        self.iq = deque()\n",
    "        self.oq = deque()\n",
    "        self.on_wait = lambda: None\n",
    "    \n",
    "    def t(self, mode, val):\n",
    "        return val if mode else self.code[val]\n",
    "    \n",
    "    def run(self, n=None, v=None, inp=None):\n",
    "        if n is not None:\n",
    "            self.code[1] = n\n",
    "        if v is not None:\n",
    "            self.code[2] = v\n",
    "        if inp is not None:\n",
    "            for i in inp:\n",
    "                self.iq.append(i)\n",
    "        return self.resume()\n",
    "    \n",
    "    def resume(self):\n",
    "        l = len(self.code)\n",
    "        while self.ptr < l:\n",
    "            op, modes = parse_op(self.code[self.ptr])\n",
    "            c = self.code\n",
    "            if op == 99:\n",
    "                break\n",
    "            elif op == 1:\n",
    "                self.do_add(modes, c[self.ptr+1], c[self.ptr+2], c[self.ptr+3])\n",
    "                self.ptr += 4\n",
    "            elif op == 2:\n",
    "                self.do_mult(modes, c[self.ptr+1], c[self.ptr+2], c[self.ptr+3])\n",
    "                self.ptr += 4\n",
    "            elif op == 3:\n",
    "                if not self.iq:\n",
    "                    return\n",
    "                self.code[c[self.ptr+1]] = self.iq.popleft()\n",
    "                self.ptr += 2\n",
    "            elif op == 4:\n",
    "                self.do_output(modes, c[self.ptr+1])\n",
    "                self.ptr += 2\n",
    "            elif op == 5:\n",
    "                if self.t(modes[0], c[self.ptr+1]) != 0:\n",
    "                    self.ptr = self.t(modes[1], c[self.ptr+2])\n",
    "                else:\n",
    "                    self.ptr += 3\n",
    "            elif op == 6:\n",
    "                if self.t(modes[0], c[self.ptr+1]) == 0:\n",
    "                    self.ptr = self.t(modes[1], c[self.ptr+2])\n",
    "                else:\n",
    "                    self.ptr += 3\n",
    "            elif op == 7:\n",
    "                self.code[c[self.ptr+3]] = self.t(modes[0], c[self.ptr+1]) < self.t(modes[1], c[self.ptr+2])\n",
    "                self.ptr += 4\n",
    "            elif op == 8:\n",
    "                self.code[c[self.ptr+3]] = self.t(modes[0], c[self.ptr+1]) == self.t(modes[1], c[self.ptr+2])\n",
    "                self.ptr += 4\n",
    "        return self.oq\n",
    "    \n",
    "    def do_add(self, modes, r1, r2, r3):\n",
    "        self.code[r3] = self.t(modes[0], r1) + self.t(modes[1], r2)\n",
    "        \n",
    "    def do_mult(self, modes, r1, r2, r3):\n",
    "        self.code[r3] = self.t(modes[0], r1) * self.t(modes[1], r2)\n",
    "    \n",
    "    def do_output(self, modes, r1):\n",
    "        self.oq.append(self.t(modes[0], r1))\n",
    "        \n",
    "    def do1202(self):\n",
    "        self.code[1] = 12\n",
    "        self.code[2] = 2"
   ]
  },
  {
   "cell_type": "code",
   "execution_count": 73,
   "metadata": {},
   "outputs": [
    {
     "data": {
      "text/plain": [
       "((1, 0, 4, 3, 2), 65210)"
      ]
     },
     "execution_count": 73,
     "metadata": {},
     "output_type": "execute_result"
    }
   ],
   "source": [
    "c = [\n",
    "    3,31,3,32,1002,32,10,32,1001,31,-2,31,1007,31,0,33,\n",
    "1002,33,7,33,1,33,31,31,1,32,31,31,4,31,99,0,0,0\n",
    "]\n",
    "argmax(lambda x: throut(c, x), permutations([0,1,2,3,4]))"
   ]
  },
  {
   "cell_type": "code",
   "execution_count": 84,
   "metadata": {},
   "outputs": [
    {
     "data": {
      "text/plain": [
       "((8, 6, 9, 5, 7), 1714298)"
      ]
     },
     "execution_count": 84,
     "metadata": {},
     "output_type": "execute_result"
    }
   ],
   "source": [
    "c = [3,8,1001,8,10,8,105,1,0,0,21,34,43,60,81,94,175,256,337,418,99999,3,9,101,2,9,9,102,4,9,9,4,9,99,3,9,102,2,9,9,4,9,99,3,9,102,4,9,9,1001,9,4,9,102,3,9,9,4,9,99,3,9,102,4,9,9,1001,9,2,9,1002,9,3,9,101,4,9,9,4,9,99,3,9,1001,9,4,9,102,2,9,9,4,9,99,3,9,102,2,9,9,4,9,3,9,1001,9,2,9,4,9,3,9,102,2,9,9,4,9,3,9,101,1,9,9,4,9,3,9,1002,9,2,9,4,9,3,9,1001,9,2,9,4,9,3,9,101,2,9,9,4,9,3,9,101,1,9,9,4,9,3,9,102,2,9,9,4,9,3,9,1002,9,2,9,4,9,99,3,9,101,2,9,9,4,9,3,9,1001,9,1,9,4,9,3,9,101,1,9,9,4,9,3,9,102,2,9,9,4,9,3,9,1002,9,2,9,4,9,3,9,1001,9,1,9,4,9,3,9,1001,9,2,9,4,9,3,9,101,1,9,9,4,9,3,9,1001,9,1,9,4,9,3,9,1001,9,2,9,4,9,99,3,9,1002,9,2,9,4,9,3,9,102,2,9,9,4,9,3,9,1002,9,2,9,4,9,3,9,102,2,9,9,4,9,3,9,1001,9,1,9,4,9,3,9,1002,9,2,9,4,9,3,9,1001,9,2,9,4,9,3,9,101,1,9,9,4,9,3,9,101,2,9,9,4,9,3,9,1001,9,2,9,4,9,99,3,9,101,2,9,9,4,9,3,9,101,1,9,9,4,9,3,9,101,1,9,9,4,9,3,9,101,1,9,9,4,9,3,9,1001,9,1,9,4,9,3,9,1001,9,2,9,4,9,3,9,1001,9,2,9,4,9,3,9,102,2,9,9,4,9,3,9,1001,9,2,9,4,9,3,9,1002,9,2,9,4,9,99,3,9,1001,9,1,9,4,9,3,9,1001,9,1,9,4,9,3,9,1002,9,2,9,4,9,3,9,1001,9,1,9,4,9,3,9,1002,9,2,9,4,9,3,9,102,2,9,9,4,9,3,9,1001,9,2,9,4,9,3,9,1001,9,2,9,4,9,3,9,101,2,9,9,4,9,3,9,102,2,9,9,4,9,99\n",
    "]\n",
    "argmax(lambda x: throutcl(c, x), permutations([5,6,7,8,9]))"
   ]
  },
  {
   "cell_type": "code",
   "execution_count": null,
   "metadata": {},
   "outputs": [],
   "source": []
  },
  {
   "cell_type": "code",
   "execution_count": 71,
   "metadata": {},
   "outputs": [],
   "source": []
  },
  {
   "cell_type": "code",
   "execution_count": 72,
   "metadata": {},
   "outputs": [],
   "source": [
    "\n",
    "    "
   ]
  },
  {
   "cell_type": "code",
   "execution_count": 81,
   "metadata": {},
   "outputs": [],
   "source": [
    "\n",
    "    "
   ]
  },
  {
   "cell_type": "code",
   "execution_count": 53,
   "metadata": {},
   "outputs": [
    {
     "data": {
      "text/plain": [
       "2"
      ]
     },
     "execution_count": 53,
     "metadata": {},
     "output_type": "execute_result"
    }
   ],
   "source": [
    "for i in range(3):\n",
    "    pass\n",
    "i"
   ]
  },
  {
   "cell_type": "code",
   "execution_count": 74,
   "metadata": {},
   "outputs": [
    {
     "data": {
      "text/plain": [
       "False"
      ]
     },
     "execution_count": 74,
     "metadata": {},
     "output_type": "execute_result"
    }
   ],
   "source": [
    "None == 3"
   ]
  },
  {
   "cell_type": "code",
   "execution_count": null,
   "metadata": {},
   "outputs": [],
   "source": []
  }
 ],
 "metadata": {
  "kernelspec": {
   "display_name": "Python 3",
   "language": "python",
   "name": "python3"
  },
  "language_info": {
   "codemirror_mode": {
    "name": "ipython",
    "version": 3
   },
   "file_extension": ".py",
   "mimetype": "text/x-python",
   "name": "python",
   "nbconvert_exporter": "python",
   "pygments_lexer": "ipython3",
   "version": "3.8.0"
  }
 },
 "nbformat": 4,
 "nbformat_minor": 4
}
